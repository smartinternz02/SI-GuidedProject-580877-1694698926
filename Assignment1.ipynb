{
  "nbformat": 4,
  "nbformat_minor": 0,
  "metadata": {
    "colab": {
      "provenance": []
    },
    "kernelspec": {
      "name": "python3",
      "display_name": "Python 3"
    },
    "language_info": {
      "name": "python"
    }
  },
  "cells": [
    {
      "cell_type": "code",
      "execution_count": 1,
      "metadata": {
        "id": "Bn5EBJyX7zey"
      },
      "outputs": [],
      "source": [
        "import pandas as pd\n",
        "import numpy as np"
      ]
    },
    {
      "cell_type": "code",
      "source": [
        "# Set a random seed for reproducibility\n",
        "np.random.seed(0)\n",
        "\n",
        "# Create a NumPy array with random values\n",
        "data = np.random.rand(4, 4)\n",
        "\n",
        "# Create a DataFrame with the random values\n",
        "df = pd.DataFrame(data, columns=['Feature1', 'Feature2', 'Feature3', 'Feature4'])\n",
        "\n",
        "# Display the DataFrame\n",
        "print(df)"
      ],
      "metadata": {
        "colab": {
          "base_uri": "https://localhost:8080/"
        },
        "id": "0RTBic7r8Cxe",
        "outputId": "dd124949-afb7-417c-d2cc-a41934d741cc"
      },
      "execution_count": 2,
      "outputs": [
        {
          "output_type": "stream",
          "name": "stdout",
          "text": [
            "   Feature1  Feature2  Feature3  Feature4\n",
            "0  0.548814  0.715189  0.602763  0.544883\n",
            "1  0.423655  0.645894  0.437587  0.891773\n",
            "2  0.963663  0.383442  0.791725  0.528895\n",
            "3  0.568045  0.925597  0.071036  0.087129\n"
          ]
        }
      ]
    },
    {
      "cell_type": "code",
      "source": [
        "# Rename the columns of the 'df' DataFrame\n",
        "df.rename(columns={'Feature1': 'Random value 1',\n",
        "                   'Feature2': 'Random value 2',\n",
        "                   'Feature3': 'Random value 3',\n",
        "                   'Feature4': 'Random value 4'}, inplace=True)\n",
        "\n",
        "# Display the DataFrame with the updated column names\n",
        "print(df)\n"
      ],
      "metadata": {
        "colab": {
          "base_uri": "https://localhost:8080/"
        },
        "id": "8wmkyfOz8LSV",
        "outputId": "45ca1bd5-ad54-494c-f1bf-848ec121c1bd"
      },
      "execution_count": 3,
      "outputs": [
        {
          "output_type": "stream",
          "name": "stdout",
          "text": [
            "   Random value 1  Random value 2  Random value 3  Random value 4\n",
            "0        0.548814        0.715189        0.602763        0.544883\n",
            "1        0.423655        0.645894        0.437587        0.891773\n",
            "2        0.963663        0.383442        0.791725        0.528895\n",
            "3        0.568045        0.925597        0.071036        0.087129\n"
          ]
        }
      ]
    },
    {
      "cell_type": "code",
      "source": [
        "# Compute descriptive statistics for the 'df' DataFrame\n",
        "statistics = df.describe()\n",
        "\n",
        "# Display the descriptive statistics\n",
        "print(statistics)\n"
      ],
      "metadata": {
        "colab": {
          "base_uri": "https://localhost:8080/"
        },
        "id": "2ba4DHvp8N6M",
        "outputId": "7f8227c8-7cce-4464-d2a8-c7ae81c4963f"
      },
      "execution_count": 4,
      "outputs": [
        {
          "output_type": "stream",
          "name": "stdout",
          "text": [
            "       Random value 1  Random value 2  Random value 3  Random value 4\n",
            "count        4.000000        4.000000        4.000000        4.000000\n",
            "mean         0.626044        0.667530        0.475778        0.513170\n",
            "std          0.234006        0.223640        0.306171        0.329699\n",
            "min          0.423655        0.383442        0.071036        0.087129\n",
            "25%          0.517524        0.580281        0.345949        0.418454\n",
            "50%          0.558429        0.680542        0.520175        0.536889\n",
            "75%          0.666949        0.767791        0.650004        0.631606\n",
            "max          0.963663        0.925597        0.791725        0.891773\n"
          ]
        }
      ]
    },
    {
      "cell_type": "code",
      "source": [
        "# Check for null values in 'df'\n",
        "null_values = df.isnull().sum()\n",
        "\n",
        "# Get the data types of the columns\n",
        "data_types = df.dtypes\n",
        "\n",
        "# Display the results\n",
        "print(\"Null Values:\")\n",
        "print(null_values)\n",
        "print(\"\\nData Types:\")\n",
        "print(data_types)\n"
      ],
      "metadata": {
        "colab": {
          "base_uri": "https://localhost:8080/"
        },
        "id": "QFmmv-Xl8R-x",
        "outputId": "2c8fceef-0bea-473a-9653-7e648e8860ef"
      },
      "execution_count": 5,
      "outputs": [
        {
          "output_type": "stream",
          "name": "stdout",
          "text": [
            "Null Values:\n",
            "Random value 1    0\n",
            "Random value 2    0\n",
            "Random value 3    0\n",
            "Random value 4    0\n",
            "dtype: int64\n",
            "\n",
            "Data Types:\n",
            "Random value 1    float64\n",
            "Random value 2    float64\n",
            "Random value 3    float64\n",
            "Random value 4    float64\n",
            "dtype: object\n"
          ]
        }
      ]
    },
    {
      "cell_type": "code",
      "source": [
        "# Display the 'Random value 2' and 'Random value 3' columns using .loc[]\n",
        "selected_columns_loc = df.loc[:, ['Random value 2', 'Random value 3']]\n",
        "print(selected_columns_loc)\n"
      ],
      "metadata": {
        "colab": {
          "base_uri": "https://localhost:8080/"
        },
        "id": "vjp2_1ap8VHA",
        "outputId": "f78888cc-7ed3-4dd6-c8cb-a47f3b585cf8"
      },
      "execution_count": 6,
      "outputs": [
        {
          "output_type": "stream",
          "name": "stdout",
          "text": [
            "   Random value 2  Random value 3\n",
            "0        0.715189        0.602763\n",
            "1        0.645894        0.437587\n",
            "2        0.383442        0.791725\n",
            "3        0.925597        0.071036\n"
          ]
        }
      ]
    },
    {
      "cell_type": "code",
      "source": [
        "# Display the 'Random value 2' and 'Random value 3' columns using index location method\n",
        "selected_columns_index = df.iloc[:, [1, 2]]  # Column indices 1 and 2 correspond to 'Random value 2' and 'Random value 3'\n",
        "print(selected_columns_index)\n"
      ],
      "metadata": {
        "colab": {
          "base_uri": "https://localhost:8080/"
        },
        "id": "JKFnzfKF8Xlo",
        "outputId": "b68ca954-731e-4b8f-f1bc-c1c4b95892ca"
      },
      "execution_count": 7,
      "outputs": [
        {
          "output_type": "stream",
          "name": "stdout",
          "text": [
            "   Random value 2  Random value 3\n",
            "0        0.715189        0.602763\n",
            "1        0.645894        0.437587\n",
            "2        0.383442        0.791725\n",
            "3        0.925597        0.071036\n"
          ]
        }
      ]
    }
  ]
}